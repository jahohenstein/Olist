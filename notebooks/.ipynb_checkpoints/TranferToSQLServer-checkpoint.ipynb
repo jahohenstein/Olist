{
 "cells": [
  {
   "cell_type": "code",
   "execution_count": 1,
   "id": "67a2b290",
   "metadata": {},
   "outputs": [],
   "source": [
    "from olist.data import get_data, transform_datetime, data_cleaning_general"
   ]
  },
  {
   "cell_type": "code",
   "execution_count": 14,
   "id": "6220f036",
   "metadata": {},
   "outputs": [],
   "source": [
    "import pandas as pd\n",
    "import os"
   ]
  },
  {
   "cell_type": "code",
   "execution_count": 2,
   "id": "484e5c8e",
   "metadata": {},
   "outputs": [],
   "source": [
    "data = get_data()"
   ]
  },
  {
   "cell_type": "code",
   "execution_count": 4,
   "id": "74d25d42",
   "metadata": {},
   "outputs": [
    {
     "data": {
      "text/plain": [
       "dict_keys(['sellers', 'order_reviews', 'order_items', 'customers', 'orders', 'order_payments', 'product_category_name_translation.csv', 'products', 'geolocation'])"
      ]
     },
     "execution_count": 4,
     "metadata": {},
     "output_type": "execute_result"
    }
   ],
   "source": [
    "data.keys()"
   ]
  },
  {
   "cell_type": "code",
   "execution_count": 6,
   "id": "67974261",
   "metadata": {},
   "outputs": [],
   "source": [
    "data = transform_datetime(data)"
   ]
  },
  {
   "cell_type": "code",
   "execution_count": 7,
   "id": "fcddafad",
   "metadata": {},
   "outputs": [],
   "source": [
    "data = data_cleaning_general(data)"
   ]
  },
  {
   "cell_type": "code",
   "execution_count": 28,
   "id": "a796f491",
   "metadata": {},
   "outputs": [],
   "source": [
    "for key in data.keys():\n",
    "    data[key].to_csv(f\"/home/jakob/code/jahlah/Olist/data/cleaned_data/{key}.csv\")"
   ]
  },
  {
   "cell_type": "code",
   "execution_count": null,
   "id": "9a4d6990",
   "metadata": {},
   "outputs": [],
   "source": []
  }
 ],
 "metadata": {
  "kernelspec": {
   "display_name": "Python 3 (ipykernel)",
   "language": "python",
   "name": "python3"
  },
  "language_info": {
   "codemirror_mode": {
    "name": "ipython",
    "version": 3
   },
   "file_extension": ".py",
   "mimetype": "text/x-python",
   "name": "python",
   "nbconvert_exporter": "python",
   "pygments_lexer": "ipython3",
   "version": "3.8.12"
  }
 },
 "nbformat": 4,
 "nbformat_minor": 5
}
