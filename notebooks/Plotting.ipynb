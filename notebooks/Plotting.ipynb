{
 "cells": [
  {
   "cell_type": "code",
   "execution_count": 1,
   "id": "ce53586e",
   "metadata": {},
   "outputs": [],
   "source": [
    "from olist.data import get_data, transform_datetime, data_cleaning_general"
   ]
  },
  {
   "cell_type": "markdown",
   "id": "f4b5da37",
   "metadata": {},
   "source": [
    "# Read in data"
   ]
  },
  {
   "cell_type": "code",
   "execution_count": 2,
   "id": "899c87f5",
   "metadata": {},
   "outputs": [],
   "source": [
    "data = get_data()\n",
    "data = data_cleaning_general(data)\n",
    "data = transform_datetime(data)"
   ]
  },
  {
   "cell_type": "code",
   "execution_count": null,
   "id": "26ef626c",
   "metadata": {},
   "outputs": [],
   "source": []
  }
 ],
 "metadata": {
  "kernelspec": {
   "display_name": "Python 3 (ipykernel)",
   "language": "python",
   "name": "python3"
  },
  "language_info": {
   "codemirror_mode": {
    "name": "ipython",
    "version": 3
   },
   "file_extension": ".py",
   "mimetype": "text/x-python",
   "name": "python",
   "nbconvert_exporter": "python",
   "pygments_lexer": "ipython3",
   "version": "3.8.12"
  },
  "toc": {
   "base_numbering": 1,
   "nav_menu": {},
   "number_sections": true,
   "sideBar": true,
   "skip_h1_title": false,
   "title_cell": "Table of Contents",
   "title_sidebar": "Contents",
   "toc_cell": false,
   "toc_position": {},
   "toc_section_display": true,
   "toc_window_display": false
  }
 },
 "nbformat": 4,
 "nbformat_minor": 5
}
